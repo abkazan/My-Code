{
 "cells": [
  {
   "cell_type": "code",
   "execution_count": 236,
   "id": "435255c4-2e14-47af-828d-2fc6de4636e5",
   "metadata": {},
   "outputs": [],
   "source": [
    "import scrape\n"
   ]
  },
  {
   "cell_type": "code",
   "execution_count": 237,
   "id": "750eda5f-7cf4-4304-9851-617809bf8ea1",
   "metadata": {},
   "outputs": [
    {
     "name": "stdout",
     "output_type": "stream",
     "text": [
      "The autoreload extension is already loaded. To reload it, use:\n",
      "  %reload_ext autoreload\n"
     ]
    }
   ],
   "source": [
    "%load_ext autoreload\n",
    "%autoreload 2"
   ]
  },
  {
   "cell_type": "code",
   "execution_count": 283,
   "id": "31ed44c4-3c3d-4963-b7dc-1fae1adb9258",
   "metadata": {},
   "outputs": [
    {
     "data": {
      "text/plain": [
       "['A', 'B', 'D', 'C']"
      ]
     },
     "execution_count": 283,
     "metadata": {},
     "output_type": "execute_result"
    }
   ],
   "source": [
    "import pandas as pd\n",
    "import scrape\n",
    "\n",
    "df = pd.DataFrame([\n",
    "    [0,1,0,1],\n",
    "    [0,0,1,0],\n",
    "    [0,0,0,1],\n",
    "    [0,0,1,0],\n",
    "], index=[\"A\", \"B\", \"C\", \"D\"], columns=[\"A\", \"B\", \"C\", \"D\"])\n",
    "\n",
    "m = scrape.MatrixSearcher(df)\n",
    "m.bfs_search(\"A\")\n",
    "m.order"
   ]
  },
  {
   "cell_type": "code",
   "execution_count": 298,
   "id": "22a8879d-5366-46a2-b744-6b0e054c3754",
   "metadata": {},
   "outputs": [
    {
     "name": "stdout",
     "output_type": "stream",
     "text": [
      "['http://34.134.218.188:5000/Node_2.html', 'http://34.134.218.188:5000/Node_4.html']\n",
      "1713852459415326\n"
     ]
    }
   ],
   "source": [
    "import os\n",
    "from selenium.webdriver.chrome.options import Options\n",
    "from selenium.webdriver.chrome.service import Service\n",
    "from selenium import webdriver\n",
    "import scrape\n",
    "\n",
    "# kill previous chrome instance if still around (to conserve memory)\n",
    "os.system(\"pkill -f -9 chromium\")\n",
    "\n",
    "options = Options()\n",
    "options.headless = True\n",
    "service = Service(executable_path=\"chromium.chromedriver\")\n",
    "driver = webdriver.Chrome(options=options, service=service)\n",
    "\n",
    "# TODO: use IP address of your VM\n",
    "start_url = \"http://34.134.218.188:5000/Node_1.html\"\n",
    "\n",
    "s = scrape.WebSearcher(driver)\n",
    "print(s.visit_and_get_children(start_url))\n",
    "\n",
    "s = scrape.WebSearcher(driver)\n",
    "s.bfs_search(start_url)\n",
    "travellog = s.table()\n",
    "print(s.table())\n",
    "\n",
    "driver.close()"
   ]
  },
  {
   "cell_type": "code",
   "execution_count": 309,
   "id": "a0e38042-f89a-479e-b81e-c0c9c70498b5",
   "metadata": {},
   "outputs": [
    {
     "name": "stdout",
     "output_type": "stream",
     "text": [
      "BASCOM HALL\n"
     ]
    }
   ],
   "source": [
    "os.system(\"pkill -f -9 chromium\")\n",
    "\n",
    "options = Options()\n",
    "options.headless = True\n",
    "service = Service(executable_path=\"chromium.chromedriver\")\n",
    "driver = webdriver.Chrome(options=options, service=service)\n",
    "start_url = \"http://34.134.218.188:5000\"\n",
    "\n",
    "print(scrape.reveal_secrets(driver, start_url, travellog))"
   ]
  },
  {
   "cell_type": "code",
   "execution_count": 312,
   "id": "4df14390-4497-4a6e-a851-83c438c4f5a8",
   "metadata": {},
   "outputs": [],
   "source": [
    "# test bfs on Matrix\n",
    "df = pd.DataFrame([\n",
    "    [0,1,0,1],\n",
    "    [0,0,1,0],\n",
    "    [0,0,0,1],\n",
    "    [0,0,1,0],\n",
    "], index=[\"A\", \"B\", \"C\", \"D\"], columns=[\"A\", \"B\", \"C\", \"D\"])\n",
    "m = scrape.MatrixSearcher(df)\n",
    "\n",
    "m.bfs_search(\"A\")\n",
    "assert m.order == ['A', 'B', 'D', 'C']\n",
    "#bfs_points += 5\n",
    "\n",
    "# test visit_and_get_children\n",
    "f = scrape.FileSearcher()\n",
    "#bfs_points += 2\n",
    "assert f.visit_and_get_children(\"1.txt\") == ['2.txt', '4.txt']"
   ]
  },
  {
   "cell_type": "code",
   "execution_count": 314,
   "id": "2e2c6f85-61e0-496b-8a98-a0c3c5710148",
   "metadata": {},
   "outputs": [
    {
     "ename": "WebDriverException",
     "evalue": "Message: unknown error: net::ERR_CONNECTION_REFUSED\n  (Session info: headless chrome=111.0.5563.64)\nStacktrace:\n#0 0x5556a1f955a3 <unknown>\n#1 0x5556a1d64b76 <unknown>\n#2 0x5556a1d5caf8 <unknown>\n#3 0x5556a1d4fbac <unknown>\n#4 0x5556a1d512b2 <unknown>\n#5 0x5556a1d4ff8a <unknown>\n#6 0x5556a1d4f098 <unknown>\n#7 0x5556a1d4ef00 <unknown>\n#8 0x5556a1d4daac <unknown>\n#9 0x5556a1d4e0cd <unknown>\n#10 0x5556a1d66906 <unknown>\n#11 0x5556a1dd9fc5 <unknown>\n#12 0x5556a1dc1442 <unknown>\n#13 0x5556a1dd9909 <unknown>\n#14 0x5556a1dc1213 <unknown>\n#15 0x5556a1d941d8 <unknown>\n#16 0x5556a1d9530e <unknown>\n#17 0x5556a1fe2766 <unknown>\n#18 0x5556a1fe5973 <unknown>\n#19 0x5556a1fe61fa <unknown>\n#20 0x5556a1fcbb5e <unknown>\n#21 0x5556a1fe698c <unknown>\n#22 0x5556a1fbd288 <unknown>\n#23 0x5556a20068d8 <unknown>\n#24 0x5556a2006a7f <unknown>\n#25 0x5556a2020f44 <unknown>\n#26 0x7f28dd47d609 <unknown>\n",
     "output_type": "error",
     "traceback": [
      "\u001b[0;31m---------------------------------------------------------------------------\u001b[0m",
      "\u001b[0;31mWebDriverException\u001b[0m                        Traceback (most recent call last)",
      "Cell \u001b[0;32mIn[314], line 9\u001b[0m\n\u001b[1;32m      7\u001b[0m port \u001b[38;5;241m=\u001b[39m \u001b[38;5;124m\"\u001b[39m\u001b[38;5;124m5001\u001b[39m\u001b[38;5;124m\"\u001b[39m\n\u001b[1;32m      8\u001b[0m url \u001b[38;5;241m=\u001b[39m \u001b[38;5;124mf\u001b[39m\u001b[38;5;124m\"\u001b[39m\u001b[38;5;124mhttp://localhost:\u001b[39m\u001b[38;5;132;01m{\u001b[39;00mport\u001b[38;5;132;01m}\u001b[39;00m\u001b[38;5;124m/Node_1.html\u001b[39m\u001b[38;5;124m\"\u001b[39m\n\u001b[0;32m----> 9\u001b[0m \u001b[38;5;28;01massert\u001b[39;00m \u001b[43mws\u001b[49m\u001b[38;5;241;43m.\u001b[39;49m\u001b[43mvisit_and_get_children\u001b[49m\u001b[43m(\u001b[49m\u001b[43murl\u001b[49m\u001b[43m)\u001b[49m \u001b[38;5;241m==\u001b[39m [\u001b[38;5;124mf\u001b[39m\u001b[38;5;124m'\u001b[39m\u001b[38;5;124mhttp://localhost:\u001b[39m\u001b[38;5;132;01m{\u001b[39;00mport\u001b[38;5;132;01m}\u001b[39;00m\u001b[38;5;124m/Node_2.html\u001b[39m\u001b[38;5;124m'\u001b[39m, \u001b[38;5;124mf\u001b[39m\u001b[38;5;124m'\u001b[39m\u001b[38;5;124mhttp://localhost:\u001b[39m\u001b[38;5;132;01m{\u001b[39;00mport\u001b[38;5;132;01m}\u001b[39;00m\u001b[38;5;124m/Node_4.html\u001b[39m\u001b[38;5;124m'\u001b[39m]\n\u001b[1;32m     10\u001b[0m ws \u001b[38;5;241m=\u001b[39m scrape\u001b[38;5;241m.\u001b[39mWebSearcher(driver)\n\u001b[1;32m     11\u001b[0m ws\u001b[38;5;241m.\u001b[39mbfs_search(url)\n",
      "File \u001b[0;32m~/cs320-s23-projects/p3/scrape.py:104\u001b[0m, in \u001b[0;36mWebSearcher.visit_and_get_children\u001b[0;34m(self, url)\u001b[0m\n\u001b[1;32m    102\u001b[0m \u001b[38;5;28;01mdef\u001b[39;00m \u001b[38;5;21mvisit_and_get_children\u001b[39m(\u001b[38;5;28mself\u001b[39m, url):\n\u001b[1;32m    103\u001b[0m     \u001b[38;5;66;03m#print(\"we are in visit_and_get_children\")\u001b[39;00m\n\u001b[0;32m--> 104\u001b[0m     \u001b[38;5;28;43mself\u001b[39;49m\u001b[38;5;241;43m.\u001b[39;49m\u001b[43mdriver\u001b[49m\u001b[38;5;241;43m.\u001b[39;49m\u001b[43mget\u001b[49m\u001b[43m(\u001b[49m\u001b[43murl\u001b[49m\u001b[43m)\u001b[49m\n\u001b[1;32m    105\u001b[0m     links \u001b[38;5;241m=\u001b[39m \u001b[38;5;28mself\u001b[39m\u001b[38;5;241m.\u001b[39mdriver\u001b[38;5;241m.\u001b[39mfind_elements_by_tag_name(\u001b[38;5;124m\"\u001b[39m\u001b[38;5;124ma\u001b[39m\u001b[38;5;124m\"\u001b[39m)\n\u001b[1;32m    106\u001b[0m     html \u001b[38;5;241m=\u001b[39m \u001b[38;5;28mself\u001b[39m\u001b[38;5;241m.\u001b[39mdriver\u001b[38;5;241m.\u001b[39mpage_source\n",
      "File \u001b[0;32m~/.local/lib/python3.10/site-packages/selenium/webdriver/remote/webdriver.py:437\u001b[0m, in \u001b[0;36mWebDriver.get\u001b[0;34m(self, url)\u001b[0m\n\u001b[1;32m    433\u001b[0m \u001b[38;5;28;01mdef\u001b[39;00m \u001b[38;5;21mget\u001b[39m(\u001b[38;5;28mself\u001b[39m, url: \u001b[38;5;28mstr\u001b[39m) \u001b[38;5;241m-\u001b[39m\u001b[38;5;241m>\u001b[39m \u001b[38;5;28;01mNone\u001b[39;00m:\n\u001b[1;32m    434\u001b[0m \u001b[38;5;250m    \u001b[39m\u001b[38;5;124;03m\"\"\"\u001b[39;00m\n\u001b[1;32m    435\u001b[0m \u001b[38;5;124;03m    Loads a web page in the current browser session.\u001b[39;00m\n\u001b[1;32m    436\u001b[0m \u001b[38;5;124;03m    \"\"\"\u001b[39;00m\n\u001b[0;32m--> 437\u001b[0m     \u001b[38;5;28;43mself\u001b[39;49m\u001b[38;5;241;43m.\u001b[39;49m\u001b[43mexecute\u001b[49m\u001b[43m(\u001b[49m\u001b[43mCommand\u001b[49m\u001b[38;5;241;43m.\u001b[39;49m\u001b[43mGET\u001b[49m\u001b[43m,\u001b[49m\u001b[43m \u001b[49m\u001b[43m{\u001b[49m\u001b[38;5;124;43m'\u001b[39;49m\u001b[38;5;124;43murl\u001b[39;49m\u001b[38;5;124;43m'\u001b[39;49m\u001b[43m:\u001b[49m\u001b[43m \u001b[49m\u001b[43murl\u001b[49m\u001b[43m}\u001b[49m\u001b[43m)\u001b[49m\n",
      "File \u001b[0;32m~/.local/lib/python3.10/site-packages/selenium/webdriver/remote/webdriver.py:425\u001b[0m, in \u001b[0;36mWebDriver.execute\u001b[0;34m(self, driver_command, params)\u001b[0m\n\u001b[1;32m    423\u001b[0m response \u001b[38;5;241m=\u001b[39m \u001b[38;5;28mself\u001b[39m\u001b[38;5;241m.\u001b[39mcommand_executor\u001b[38;5;241m.\u001b[39mexecute(driver_command, params)\n\u001b[1;32m    424\u001b[0m \u001b[38;5;28;01mif\u001b[39;00m response:\n\u001b[0;32m--> 425\u001b[0m     \u001b[38;5;28;43mself\u001b[39;49m\u001b[38;5;241;43m.\u001b[39;49m\u001b[43merror_handler\u001b[49m\u001b[38;5;241;43m.\u001b[39;49m\u001b[43mcheck_response\u001b[49m\u001b[43m(\u001b[49m\u001b[43mresponse\u001b[49m\u001b[43m)\u001b[49m\n\u001b[1;32m    426\u001b[0m     response[\u001b[38;5;124m'\u001b[39m\u001b[38;5;124mvalue\u001b[39m\u001b[38;5;124m'\u001b[39m] \u001b[38;5;241m=\u001b[39m \u001b[38;5;28mself\u001b[39m\u001b[38;5;241m.\u001b[39m_unwrap_value(\n\u001b[1;32m    427\u001b[0m         response\u001b[38;5;241m.\u001b[39mget(\u001b[38;5;124m'\u001b[39m\u001b[38;5;124mvalue\u001b[39m\u001b[38;5;124m'\u001b[39m, \u001b[38;5;28;01mNone\u001b[39;00m))\n\u001b[1;32m    428\u001b[0m     \u001b[38;5;28;01mreturn\u001b[39;00m response\n",
      "File \u001b[0;32m~/.local/lib/python3.10/site-packages/selenium/webdriver/remote/errorhandler.py:247\u001b[0m, in \u001b[0;36mErrorHandler.check_response\u001b[0;34m(self, response)\u001b[0m\n\u001b[1;32m    245\u001b[0m         alert_text \u001b[38;5;241m=\u001b[39m value[\u001b[38;5;124m'\u001b[39m\u001b[38;5;124malert\u001b[39m\u001b[38;5;124m'\u001b[39m]\u001b[38;5;241m.\u001b[39mget(\u001b[38;5;124m'\u001b[39m\u001b[38;5;124mtext\u001b[39m\u001b[38;5;124m'\u001b[39m)\n\u001b[1;32m    246\u001b[0m     \u001b[38;5;28;01mraise\u001b[39;00m exception_class(message, screen, stacktrace, alert_text)  \u001b[38;5;66;03m# type: ignore[call-arg]  # mypy is not smart enough here\u001b[39;00m\n\u001b[0;32m--> 247\u001b[0m \u001b[38;5;28;01mraise\u001b[39;00m exception_class(message, screen, stacktrace)\n",
      "\u001b[0;31mWebDriverException\u001b[0m: Message: unknown error: net::ERR_CONNECTION_REFUSED\n  (Session info: headless chrome=111.0.5563.64)\nStacktrace:\n#0 0x5556a1f955a3 <unknown>\n#1 0x5556a1d64b76 <unknown>\n#2 0x5556a1d5caf8 <unknown>\n#3 0x5556a1d4fbac <unknown>\n#4 0x5556a1d512b2 <unknown>\n#5 0x5556a1d4ff8a <unknown>\n#6 0x5556a1d4f098 <unknown>\n#7 0x5556a1d4ef00 <unknown>\n#8 0x5556a1d4daac <unknown>\n#9 0x5556a1d4e0cd <unknown>\n#10 0x5556a1d66906 <unknown>\n#11 0x5556a1dd9fc5 <unknown>\n#12 0x5556a1dc1442 <unknown>\n#13 0x5556a1dd9909 <unknown>\n#14 0x5556a1dc1213 <unknown>\n#15 0x5556a1d941d8 <unknown>\n#16 0x5556a1d9530e <unknown>\n#17 0x5556a1fe2766 <unknown>\n#18 0x5556a1fe5973 <unknown>\n#19 0x5556a1fe61fa <unknown>\n#20 0x5556a1fcbb5e <unknown>\n#21 0x5556a1fe698c <unknown>\n#22 0x5556a1fbd288 <unknown>\n#23 0x5556a20068d8 <unknown>\n#24 0x5556a2006a7f <unknown>\n#25 0x5556a2020f44 <unknown>\n#26 0x7f28dd47d609 <unknown>\n"
     ]
    }
   ],
   "source": []
  },
  {
   "cell_type": "code",
   "execution_count": null,
   "id": "ace28b62-fb71-452c-a8b5-e2fd6d08f488",
   "metadata": {},
   "outputs": [],
   "source": []
  }
 ],
 "metadata": {
  "kernelspec": {
   "display_name": "Python 3 (ipykernel)",
   "language": "python",
   "name": "python3"
  },
  "language_info": {
   "codemirror_mode": {
    "name": "ipython",
    "version": 3
   },
   "file_extension": ".py",
   "mimetype": "text/x-python",
   "name": "python",
   "nbconvert_exporter": "python",
   "pygments_lexer": "ipython3",
   "version": "3.10.6"
  }
 },
 "nbformat": 4,
 "nbformat_minor": 5
}
