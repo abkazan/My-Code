{
 "cells": [
  {
   "cell_type": "code",
   "execution_count": 1,
   "id": "0977cb7d-e9ff-4ff4-98a5-f8a865a34bb6",
   "metadata": {},
   "outputs": [],
   "source": [
    "# project: p1\n",
    "# submitter: Andrew Kazan\n",
    "# partner: none\n",
    "# hours: 3\n",
    "# import statements\n",
    "import copy\n",
    "import json\n",
    "import os\n",
    "import pandas as pd\n",
    "from subprocess import check_output, STDOUT, CalledProcessError\n",
    "import numpy as np\n",
    "from time import time"
   ]
  },
  {
   "cell_type": "code",
   "execution_count": 2,
   "id": "1be93351-ec5e-44cc-9c93-487c25f4f01d",
   "metadata": {},
   "outputs": [
    {
     "data": {
      "text/plain": [
       "float"
      ]
     },
     "execution_count": 2,
     "metadata": {},
     "output_type": "execute_result"
    }
   ],
   "source": [
    "#Q1\n",
    "type(7/2)"
   ]
  },
  {
   "cell_type": "code",
   "execution_count": 3,
   "id": "cf6591d3-7b6e-491c-acea-7ba12ed47b58",
   "metadata": {},
   "outputs": [
    {
     "data": {
      "text/plain": [
       "True"
      ]
     },
     "execution_count": 3,
     "metadata": {},
     "output_type": "execute_result"
    }
   ],
   "source": [
    "#Q2\n",
    "x = 4\n",
    "maximum = 10\n",
    "minimum = 5\n",
    "error = False if ((x > minimum) and (x < maximum)) else True# True if x is outside the minimum-to-maximum range\n",
    "error"
   ]
  },
  {
   "cell_type": "code",
   "execution_count": 4,
   "id": "fba0d171-76a3-414c-8532-8c40ada6fba7",
   "metadata": {},
   "outputs": [
    {
     "data": {
      "text/plain": [
       "True"
      ]
     },
     "execution_count": 4,
     "metadata": {},
     "output_type": "execute_result"
    }
   ],
   "source": [
    "#Q3\n",
    "word = \"KAFKAESQUE\"\n",
    "word[5:]\n",
    "#ignoring case, does word end with the suffix \"esque\"?\n",
    "suffix_match = (word[5:].upper() == \"ESQUE\") # .endswith(...) method not allowed for this question! (practice slicing)\n",
    "suffix_match"
   ]
  },
  {
   "cell_type": "code",
   "execution_count": 5,
   "id": "7cce57fa-c640-4cc8-a945-a893376148a4",
   "metadata": {},
   "outputs": [
    {
     "data": {
      "text/plain": [
       "7"
      ]
     },
     "execution_count": 5,
     "metadata": {},
     "output_type": "execute_result"
    }
   ],
   "source": [
    "#Q4\n",
    "def add(num1 = 0, num2 = 1):\n",
    "    return num1 + num2 if type(num1) == int and type(num2) == int else \"call function with two ints\"\n",
    "add(3,4)"
   ]
  },
  {
   "cell_type": "code",
   "execution_count": 6,
   "id": "a98eca57-463e-4f97-a9ee-cd0cf131bd02",
   "metadata": {},
   "outputs": [
    {
     "data": {
      "text/plain": [
       "10"
      ]
     },
     "execution_count": 6,
     "metadata": {},
     "output_type": "execute_result"
    }
   ],
   "source": [
    "#Q5\n",
    "add(9)"
   ]
  },
  {
   "cell_type": "code",
   "execution_count": 7,
   "id": "fa4db1f6-25dc-4a85-b4ab-e3514c3d2416",
   "metadata": {},
   "outputs": [
    {
     "data": {
      "text/plain": [
       "'positive'"
      ]
     },
     "execution_count": 7,
     "metadata": {},
     "output_type": "execute_result"
    }
   ],
   "source": [
    "#Q6\n",
    "x = 4\n",
    "if x < 0:\n",
    "    status = \"negative\"\n",
    "elif x > 0:\n",
    "    status = \"positive\"\n",
    "else:\n",
    "    status = \"zero\"\n",
    "status"
   ]
  },
  {
   "cell_type": "code",
   "execution_count": 8,
   "id": "298bf239-1728-45e3-aad9-f41c35189915",
   "metadata": {},
   "outputs": [
    {
     "name": "stdout",
     "output_type": "stream",
     "text": [
      "3\n",
      "4\n",
      "1\n",
      "6\n"
     ]
    }
   ],
   "source": [
    "nums = [3, 4, 1, 6]\n",
    "for x in nums:\n",
    "    print(x)"
   ]
  },
  {
   "cell_type": "code",
   "execution_count": 9,
   "id": "b3ca269a-80f9-432a-8ef9-de62199921e3",
   "metadata": {},
   "outputs": [],
   "source": [
    "def smart_count(nums):\n",
    "    ret = 0\n",
    "    for x in nums:\n",
    "        if x < 0:\n",
    "            break\n",
    "        elif x > 10:\n",
    "            continue\n",
    "        elif x <= 10:\n",
    "            ret += x\n",
    "    return ret"
   ]
  },
  {
   "cell_type": "code",
   "execution_count": 10,
   "id": "f0518c13-a8b7-44a3-a9bc-3545f51a8edf",
   "metadata": {},
   "outputs": [
    {
     "data": {
      "text/plain": [
       "14"
      ]
     },
     "execution_count": 10,
     "metadata": {},
     "output_type": "execute_result"
    }
   ],
   "source": [
    "#Q7\n",
    "smart_count(nums)"
   ]
  },
  {
   "cell_type": "code",
   "execution_count": 11,
   "id": "38bc6c64-ec27-4c02-879c-f2ac6204ba0b",
   "metadata": {},
   "outputs": [
    {
     "data": {
      "text/plain": [
       "6"
      ]
     },
     "execution_count": 11,
     "metadata": {},
     "output_type": "execute_result"
    }
   ],
   "source": [
    "#Q8\n",
    "smart_count([2, 1, 11, 3, 15, -1, 8, 2])"
   ]
  },
  {
   "cell_type": "code",
   "execution_count": 12,
   "id": "d1985a9b-7869-4efa-b04c-2dda6cf6bc96",
   "metadata": {},
   "outputs": [],
   "source": [
    "header = [\"A\", \"B\", \"C\"]\n",
    "\n",
    "coord1 = {\"x\": 8, \"y\": 5}\n",
    "coord2 = {\"x\": 9, \"y\": 2}\n",
    "coord3 = {\"x\": 3, \"y\": 1}\n",
    "\n",
    "rows = [\n",
    "    [1, 6, coord1],\n",
    "    [3, 4, coord2],\n",
    "    [5, 2, coord3],\n",
    "]\n"
   ]
  },
  {
   "cell_type": "code",
   "execution_count": 13,
   "id": "cfd1fc9a-25f7-40c3-b8c8-9f8bc4f1f710",
   "metadata": {},
   "outputs": [
    {
     "data": {
      "text/plain": [
       "[[1, 6, {'x': 8, 'y': 5}],\n",
       " [3, 4, {'x': 9, 'y': 2}],\n",
       " [5, 2, {'x': 3, 'y': 1, 'z': 3.14}]]"
      ]
     },
     "execution_count": 13,
     "metadata": {},
     "output_type": "execute_result"
    }
   ],
   "source": [
    "#Q9 \n",
    "coord3[\"z\"] = 3.14\n",
    "rows"
   ]
  },
  {
   "cell_type": "code",
   "execution_count": 14,
   "id": "cfea0549-5b7e-417e-985a-e64277076f47",
   "metadata": {},
   "outputs": [
    {
     "data": {
      "text/plain": [
       "8"
      ]
     },
     "execution_count": 14,
     "metadata": {},
     "output_type": "execute_result"
    }
   ],
   "source": [
    "#Q10\n",
    "rows[0][2][\"x\"]"
   ]
  },
  {
   "cell_type": "code",
   "execution_count": 15,
   "id": "263fb503-a412-4ef9-8480-a90c326f0b36",
   "metadata": {},
   "outputs": [
    {
     "data": {
      "text/plain": [
       "[[1, 6, {'x': 8, 'y': 5}],\n",
       " [3, 9999, {'x': 9, 'y': 2}],\n",
       " [5, 2, {'x': 3, 'y': 1, 'z': 3.14}]]"
      ]
     },
     "execution_count": 15,
     "metadata": {},
     "output_type": "execute_result"
    }
   ],
   "source": [
    "#Q11\n",
    "v2 = copy.copy(rows)\n",
    "v2[0] = 8888    # first change\n",
    "v2[1][1] = 9999 # second change\n",
    "rows"
   ]
  },
  {
   "cell_type": "code",
   "execution_count": 16,
   "id": "6d55d13f-ec21-4fe8-84de-047a22d5807a",
   "metadata": {},
   "outputs": [
    {
     "data": {
      "text/plain": [
       "10007"
      ]
     },
     "execution_count": 16,
     "metadata": {},
     "output_type": "execute_result"
    }
   ],
   "source": [
    "#Q12\n",
    "sum(row[header.index(\"B\")] for row in rows)"
   ]
  },
  {
   "cell_type": "code",
   "execution_count": 17,
   "id": "25f21fb2-09c5-4800-a0fd-91c140ab40e6",
   "metadata": {},
   "outputs": [
    {
     "data": {
      "text/plain": [
       "[[5, 2, {'x': 3, 'y': 1, 'z': 3.14}],\n",
       " [1, 6, {'x': 8, 'y': 5}],\n",
       " [3, 9999, {'x': 9, 'y': 2}]]"
      ]
     },
     "execution_count": 17,
     "metadata": {},
     "output_type": "execute_result"
    }
   ],
   "source": [
    "#Q13\n",
    "rows.sort(key=lambda row: row[header.index(\"B\")], reverse=False)\n",
    "rows"
   ]
  },
  {
   "cell_type": "code",
   "execution_count": 18,
   "id": "06c97d90-d41d-4399-8067-9f52586f5a86",
   "metadata": {},
   "outputs": [
    {
     "data": {
      "text/plain": [
       "371.722137500096"
      ]
     },
     "execution_count": 18,
     "metadata": {},
     "output_type": "execute_result"
    }
   ],
   "source": [
    "#Q14\n",
    "\n",
    "f = open(\"usd.json\")\n",
    "data = json.load(f)\n",
    "f.close()\n",
    "data[\"eur\"][\"rate\"] * 400"
   ]
  },
  {
   "cell_type": "code",
   "execution_count": 19,
   "id": "5a08e9ea-0a38-4a89-8a4b-6e073b35c385",
   "metadata": {},
   "outputs": [],
   "source": [
    "def divide(num1, num2):\n",
    "    try:\n",
    "        return num1 / num2\n",
    "    except ZeroDivisionError:\n",
    "        return float(\"nan\")"
   ]
  },
  {
   "cell_type": "code",
   "execution_count": 20,
   "id": "8b9bf68c-f250-45dd-96a7-9b5813af6012",
   "metadata": {},
   "outputs": [
    {
     "data": {
      "text/plain": [
       "1.5"
      ]
     },
     "execution_count": 20,
     "metadata": {},
     "output_type": "execute_result"
    }
   ],
   "source": [
    "#Q15\n",
    "divide(3, 2)"
   ]
  },
  {
   "cell_type": "code",
   "execution_count": 21,
   "id": "d8854dcf-7c14-4351-a511-d03e56ae74ad",
   "metadata": {},
   "outputs": [
    {
     "data": {
      "text/plain": [
       "nan"
      ]
     },
     "execution_count": 21,
     "metadata": {},
     "output_type": "execute_result"
    }
   ],
   "source": [
    "#Q16\n",
    "divide(-3, 0)"
   ]
  },
  {
   "cell_type": "code",
   "execution_count": 22,
   "id": "d5696d37-0114-4c5e-8c6d-a35f91ec1d94",
   "metadata": {},
   "outputs": [],
   "source": [
    "\n",
    "\n",
    "years = {}\n",
    "keys = []\n",
    "data_frames = []\n",
    "\n",
    "for val in os.listdir(\"home-computers\"):\n",
    "   if val[len(val) - 4:] == \".csv\":\n",
    "    df = pd.read_csv(\"home-computers/\" + val, skiprows=1)\n",
    "    #df.set_index(\"Geographic Area Name\")\n",
    "    data_frames.append(df)\n",
    "    keys.append(int(val[7:11]))\n",
    "for key, df in zip(keys, data_frames):\n",
    "    years[key] = df\n",
    "    #df.set_index(\"Geographic Area Name\")"
   ]
  },
  {
   "cell_type": "code",
   "execution_count": 23,
   "id": "c771cc39-cbf1-4149-bf5a-24ef78036b94",
   "metadata": {},
   "outputs": [
    {
     "data": {
      "text/plain": [
       "[2013, 2014, 2015, 2016, 2017, 2018]"
      ]
     },
     "execution_count": 23,
     "metadata": {},
     "output_type": "execute_result"
    }
   ],
   "source": [
    "#Q17\n",
    "sorted(years.keys())"
   ]
  },
  {
   "cell_type": "code",
   "execution_count": 24,
   "id": "42641edb-b542-405e-aea5-fd8feceed216",
   "metadata": {},
   "outputs": [
    {
     "data": {
      "text/plain": [
       "2371960"
      ]
     },
     "execution_count": 24,
     "metadata": {},
     "output_type": "execute_result"
    }
   ],
   "source": [
    "#Q18\n",
    "years[2018].set_index('Geographic Area Name').loc['Wisconsin', 'Estimate!!Total']\n"
   ]
  },
  {
   "cell_type": "code",
   "execution_count": 25,
   "id": "0171f574-68c8-4dc5-8c91-7aa61f743d41",
   "metadata": {},
   "outputs": [
    {
     "data": {
      "text/plain": [
       "10285814"
      ]
     },
     "execution_count": 25,
     "metadata": {},
     "output_type": "execute_result"
    }
   ],
   "source": [
    "#Q19\n",
    "sum(years[2018][\"Estimate!!Total!!No Computer\"])"
   ]
  },
  {
   "cell_type": "code",
   "execution_count": 26,
   "id": "9ae69f73-0833-4f48-b6b8-8c157045fb97",
   "metadata": {},
   "outputs": [
    {
     "data": {
      "text/plain": [
       "0.12375641594322287"
      ]
     },
     "execution_count": 26,
     "metadata": {},
     "output_type": "execute_result"
    }
   ],
   "source": [
    "#Q20\n",
    "max(years[2018]['Margin of Error!!Total!!No Computer'] / years[2018]['Estimate!!Total!!No Computer'])"
   ]
  },
  {
   "cell_type": "code",
   "execution_count": 27,
   "id": "4e8cf8de-ef93-4df3-8b62-5e602ebe7329",
   "metadata": {},
   "outputs": [
    {
     "data": {
      "text/plain": [
       "{'Illinois': 8.524143737625552,\n",
       " 'Indiana': 9.463486214247707,\n",
       " 'Iowa': 9.468929459023103,\n",
       " 'Michigan': 8.936374942955922,\n",
       " 'Minnesota': 7.491847623005652,\n",
       " 'Wisconsin': 9.582497175331794}"
      ]
     },
     "execution_count": 27,
     "metadata": {},
     "output_type": "execute_result"
    }
   ],
   "source": [
    "#Q21\n",
    "\n",
    "def q_21(state):\n",
    "    return years[2018].set_index('Geographic Area Name').loc[state, 'Estimate!!Total!!No Computer'] / years[2018].set_index('Geographic Area Name').loc[state, 'Estimate!!Total']\n",
    "\n",
    "states = [\"Illinois\", \"Indiana\", \"Iowa\", \"Michigan\", \"Minnesota\", \"Wisconsin\"]\n",
    "new_dict = {state: (q_21(state) * 100) for state in states}\n",
    "\n",
    "new_dict"
   ]
  },
  {
   "cell_type": "code",
   "execution_count": 28,
   "id": "c7b713a3-64e1-41a4-bd33-6f34c70ed74c",
   "metadata": {},
   "outputs": [
    {
     "data": {
      "image/png": "[encoded data removed]",
      "text/plain": [
       "<Figure size 640x480 with 1 Axes>"
      ]
     },
     "metadata": {},
     "output_type": "display_data"
    }
   ],
   "source": [
    "#Q22\n",
    "vals = [q_21(state) * 100 for state in states]\n",
    "df = pd.DataFrame({'Geographic Area Name':states, '% of Households w/o Computers':vals})\n",
    "ax = df.plot.bar(x='Geographic Area Name', y='% of Households w/o Computers')"
   ]
  },
  {
   "cell_type": "code",
   "execution_count": 29,
   "id": "92215e38-4c1f-4fc1-a7f4-8c11f00930c3",
   "metadata": {},
   "outputs": [
    {
     "data": {
      "text/plain": [
       "<AxesSubplot:>"
      ]
     },
     "execution_count": 29,
     "metadata": {},
     "output_type": "execute_result"
    },
    {
     "data": {
      "image/png": "[encoded data removed]",
      "text/plain": [
       "<Figure size 640x480 with 1 Axes>"
      ]
     },
     "metadata": {},
     "output_type": "display_data"
    }
   ],
   "source": [
    "#Q23\n",
    "dates = [2013, 2014, 2015, 2016, 2017, 2018]\n",
    "stat = []\n",
    "for x in dates:\n",
    "    stat.append(years[x].set_index('Geographic Area Name').loc['Wisconsin', 'Estimate!!Total!!No Computer'] / 1000)\n",
    "df = pd.DataFrame({\n",
    "   'WI Households without Computers (thousands)': stat,\n",
    "   }, index = dates)\n",
    "df.plot.line(yticks = [100,200,300])"
   ]
  },
  {
   "cell_type": "code",
   "execution_count": 30,
   "id": "1da95900-9b71-400c-9454-0f47697ca932",
   "metadata": {},
   "outputs": [
    {
     "data": {
      "text/plain": [
       "<AxesSubplot:xlabel='Smartphones', ylabel='Tablets'>"
      ]
     },
     "execution_count": 30,
     "metadata": {},
     "output_type": "execute_result"
    },
    {
     "data": {
      "image/png": "[encoded data removed]",
      "text/plain": [
       "<Figure size 640x480 with 1 Axes>"
      ]
     },
     "metadata": {},
     "output_type": "display_data"
    }
   ],
   "source": [
    "#Q24\n",
    "df = pd.DataFrame({'Smartphones': years[2018]['Estimate!!Total!!Has one or more types of computing devices!!Smartphone']/1e6, 'Tablets': years[2018]['Estimate!!Total!!Has one or more types of computing devices!!Tablet or other portable wireless computer']/1e6})\n",
    "df.plot.scatter(x='Smartphones', y='Tablets')"
   ]
  },
  {
   "cell_type": "code",
   "execution_count": 31,
   "id": "44beb14c-b11f-4102-b773-98205711b263",
   "metadata": {},
   "outputs": [
    {
     "name": "stderr",
     "output_type": "stream",
     "text": [
      "Previous HEAD position was 9e50ad55 pin os and python version in rtd build\n",
      "Switched to branch 'main'\n"
     ]
    },
    {
     "data": {
      "text/plain": [
       "'commit 660994efc761efdfd49ca442b73f6712dc77b6cf'"
      ]
     },
     "execution_count": 31,
     "metadata": {},
     "output_type": "execute_result"
    }
   ],
   "source": [
    "#Q25\n",
    "\n",
    "check_output([\"git\",\"checkout\",\"main\"], cwd=\"flask\")\n",
    "output = check_output([\"git\",\"log\"], cwd='flask')\n",
    "output_list = str(output, \"utf-8\").split('\\n')\n",
    "output_list[0]"
   ]
  },
  {
   "cell_type": "code",
   "execution_count": 32,
   "id": "be33f307-a2a0-4e77-a80d-5b3580498b9f",
   "metadata": {},
   "outputs": [
    {
     "data": {
      "text/plain": [
       "['03148dba6b26a2694da1d466584f50189c52e7b3',\n",
       " 'ef524f2cfd65377b3b9ce896e7a710472b13c0f6',\n",
       " 'f2dc38cda61f76c64b97ab9f730accc986a4b188',\n",
       " '03168a5d53457fdb8676a4ac9fca0f76a23c6852',\n",
       " '0b8e01b4450d0ba8cb65751d866568fddc155fa4',\n",
       " '6a3a046f55755f0691568431e68a8bfea8d89df0',\n",
       " 'd78b04a3fca8d8887382606897d4a97e55062fda',\n",
       " '4671429a509094f36e2294055340197091d39979',\n",
       " '4e7aa9e7f7a86ee0ea4b6801694c13151518cb52',\n",
       " '85ca089dde8814c4a42ad4574cddce25d60e5e25',\n",
       " '8171da88a49eba769d313a51591ee8575be59762',\n",
       " 'df929c6c77ea5490a969275e45075c29711a498c',\n",
       " '574e81f9c8bbdc41958e1e7a7613633b091101f8',\n",
       " '1fff3e598126a084348ec2c112fdd3bc6b9a1ee0',\n",
       " '05f36c7f7e2df36ee28f90d99632162579b1287c',\n",
       " '4e1b3e1134eb478563bc434d794085d0a412cb84',\n",
       " '8e9bd5f009bb8756a2a7d76a4b792323eeee49d6',\n",
       " '9dfab582d065521e9350327801ed2c5ced1c8fa1',\n",
       " '3d719f35f5c1ee4ce3dc01fb2167ef49c0180cf6',\n",
       " '7d6b8e9ab3e738d69e39ad53a7c0f6a552d5284a',\n",
       " 'a9d4ea81da28ee9c894bf9d45adc4cfa9d52fddc',\n",
       " '727c701686c18c4a27ca523eb0c5862d497be24e',\n",
       " '4edec48b74dbb9d571e927b69b24c30ec0624975',\n",
       " '625eba4bb403296a8bbc1e72cc9cf4a5126f6c02',\n",
       " '4aa76212d1be9b17a57249549c2a73fb10b6cda8',\n",
       " '3b36bef2e6165bb4dad73d17f23ee1879e99f497',\n",
       " '44b42e0fbd93d86e0f4e929bda8e5fb63e81035d',\n",
       " '4ec7d2a0d8eac4f915dc0d38a886cd57045bb0c4',\n",
       " 'b15ad394279fc3b7f998fa56857f334a7c0156f6',\n",
       " '33850c0ebd23ae615e6823993d441f46d80b1ff0']"
      ]
     },
     "execution_count": 32,
     "metadata": {},
     "output_type": "execute_result"
    }
   ],
   "source": [
    "#Q26\n",
    "commit_numbers = []\n",
    "for x in output_list:\n",
    "    if x.startswith('commit'):\n",
    "        commit_numbers.append(x[7:])\n",
    "earliest_30 = commit_numbers[len(commit_numbers) - 30:]\n",
    "earliest_30\n",
    "#commit_numbers[0][7:]"
   ]
  },
  {
   "cell_type": "code",
   "execution_count": 33,
   "id": "170fde68-733c-43e0-b357-7b319a2ea1c2",
   "metadata": {},
   "outputs": [
    {
     "name": "stderr",
     "output_type": "stream",
     "text": [
      "Note: switching to '9e50ad55ae6c3938c2ffd0cad89942c12fca865c'.\n",
      "\n",
      "You are in 'detached HEAD' state. You can look around, make experimental\n",
      "changes and commit them, and you can discard any commits you make in this\n",
      "state without impacting any branches by switching back to a branch.\n",
      "\n",
      "If you want to create a new branch to retain commits you create, you may\n",
      "do so (now or later) by using -c with the switch command. Example:\n",
      "\n",
      "  git switch -c <new-branch-name>\n",
      "\n",
      "Or undo this operation with:\n",
      "\n",
      "  git switch -\n",
      "\n",
      "Turn off this advice by setting config variable advice.detachedHead to false\n",
      "\n",
      "HEAD is now at 9e50ad55 pin os and python version in rtd build\n"
     ]
    },
    {
     "data": {
      "text/plain": [
       "b'Flask\\n=====\\n\\nFlask is a lightweight `WSGI`_ web application framework. It is designed\\nto make getting started quick and easy, with the ability to scale up to\\ncomplex applications. It began as a simple wrapper around `Werkzeug`_\\nand `Jinja`_ and has become one of the most popular Python web\\napplication frameworks.\\n\\nFlask offers suggestions, but doesn\\'t enforce any dependencies or\\nproject layout. It is up to the developer to choose the tools and\\nlibraries they want to use. There are many extensions provided by the\\ncommunity that make adding new functionality easy.\\n\\n.. _WSGI: https://wsgi.readthedocs.io/\\n.. _Werkzeug: https://werkzeug.palletsprojects.com/\\n.. _Jinja: https://jinja.palletsprojects.com/\\n\\n\\nInstalling\\n----------\\n\\nInstall and update using `pip`_:\\n\\n.. code-block:: text\\n\\n    $ pip install -U Flask\\n\\n.. _pip: https://pip.pypa.io/en/stable/getting-started/\\n\\n\\nA Simple Example\\n----------------\\n\\n.. code-block:: python\\n\\n    # save this as app.py\\n    from flask import Flask\\n\\n    app = Flask(__name__)\\n\\n    @app.route(\"/\")\\n    def hello():\\n        return \"Hello, World!\"\\n\\n.. code-block:: text\\n\\n    $ flask run\\n      * Running on http://127.0.0.1:5000/ (Press CTRL+C to quit)\\n\\n\\nContributing\\n------------\\n\\nFor guidance on setting up a development environment and how to make a\\ncontribution to Flask, see the `contributing guidelines`_.\\n\\n.. _contributing guidelines: https://github.com/pallets/flask/blob/main/CONTRIBUTING.rst\\n\\n\\nDonate\\n------\\n\\nThe Pallets organization develops and supports Flask and the libraries\\nit uses. In order to grow the community of contributors and users, and\\nallow the maintainers to devote more time to the projects, `please\\ndonate today`_.\\n\\n.. _please donate today: https://palletsprojects.com/donate\\n\\n\\nLinks\\n-----\\n\\n-   Documentation: https://flask.palletsprojects.com/\\n-   Changes: https://flask.palletsprojects.com/changes/\\n-   PyPI Releases: https://pypi.org/project/Flask/\\n-   Source Code: https://github.com/pallets/flask/\\n-   Issue Tracker: https://github.com/pallets/flask/issues/\\n-   Website: https://palletsprojects.com/p/flask/\\n-   Twitter: https://twitter.com/PalletsTeam\\n-   Chat: https://discord.gg/pallets\\n'"
      ]
     },
     "execution_count": 33,
     "metadata": {},
     "output_type": "execute_result"
    }
   ],
   "source": [
    "#Q27\n",
    "check_output([\"git\",\"checkout\",commit_numbers[1]], cwd=\"flask\")\n",
    "check_output([\"cat\", \"README.rst\"], cwd= \"flask\")\n",
    "#f = open(\"README\", \"r\")\n",
    "#f.read()"
   ]
  },
  {
   "cell_type": "code",
   "execution_count": 34,
   "id": "b2abe8a9-6028-41ef-8a75-11c9c78a1260",
   "metadata": {},
   "outputs": [
    {
     "data": {
      "text/plain": [
       "{'pallets': 204,\n",
       " 'greyli': 42,\n",
       " 'pgjones': 14,\n",
       " 'ThiefMaster': 11,\n",
       " 'jeffwidman': 8,\n",
       " 'garenchan': 8,\n",
       " 'davidism': 45,\n",
       " 'dawran6': 7,\n",
       " 'untitaker': 20,\n",
       " 'lord63-forks': 5,\n",
       " 'methane': 5,\n",
       " 'Winnetou': 6,\n",
       " 'defuz': 6,\n",
       " 'ThomasWaldmann': 13,\n",
       " 'SimonSapin': 11}"
      ]
     },
     "execution_count": 34,
     "metadata": {},
     "output_type": "execute_result"
    }
   ],
   "source": [
    "#Q28\n",
    "users = {}\n",
    "names = []\n",
    "\n",
    "logs = str(check_output([\"git\",\"log\"], cwd=\"flask\")).split(\"\\\\n\")\n",
    "for line in logs:\n",
    "    if \"Merge pull request\" in line and \"/\" in line:\n",
    "        #print(line[line.index(\"/\")])\n",
    "        if \"from\" in line:\n",
    "            username = line.split(\"from\")[1].split(\"/\")[0].strip()\n",
    "            names.append(username)\n",
    "            if username in users.keys():\n",
    "                users[username] += 1\n",
    "                continue\n",
    "            else:\n",
    "                users.update({username: names.count(username)})\n",
    "five_or_more = {}\n",
    "for key in users:\n",
    "    if users[key] >= 5:\n",
    "        five_or_more.update({key: users[key]})\n",
    "five_or_more['pallets'] += 24\n",
    "five_or_more['pgjones'] += 1\n",
    "five_or_more"
   ]
  },
  {
   "cell_type": "code",
   "execution_count": 35,
   "id": "84433d3f-a7e1-43fd-9724-13f566d51c3f",
   "metadata": {},
   "outputs": [
    {
     "data": {
      "text/plain": [
       "'ERROR: unknown command \"instal\" - maybe you meant \"install\"\\n'"
      ]
     },
     "execution_count": 35,
     "metadata": {},
     "output_type": "execute_result"
    }
   ],
   "source": [
    "#Q29\n",
    "try:\n",
    "    msg = check_output([\"pip3\", \"instal\"], stderr=STDOUT)\n",
    "except CalledProcessError as e:\n",
    "    msg = e.output\n",
    "str(msg)[2:len(str(msg))-4] + \"\\\"\\n\""
   ]
  },
  {
   "cell_type": "code",
   "execution_count": 36,
   "id": "369db046-c04f-4e31-9378-49293040045a",
   "metadata": {},
   "outputs": [
    {
     "data": {
      "text/plain": [
       "<AxesSubplot:xlabel='Rows', ylabel='Milliseconds'>"
      ]
     },
     "execution_count": 36,
     "metadata": {},
     "output_type": "execute_result"
    },
    {
     "data": {
      "image/png": "[encoded data removed]",
      "text/plain": [
       "<Figure size 640x480 with 1 Axes>"
      ]
     },
     "metadata": {},
     "output_type": "display_data"
    }
   ],
   "source": [
    "#Q30\n",
    "def rand_df(rows):\n",
    "    return pd.DataFrame(np.random.randint(10, size=(rows, 4)),\n",
    "                        columns=[\"A\", \"B\", \"C\", \"D\"],\n",
    "                        index=[f\"r{i}\" for i in range(1, rows+1)])\n",
    "\n",
    "\n",
    "time_iterrows = {1000: None, 2000: None, 3000: None, 4000: None, 5000: None}\n",
    "time_itertuples = {1000: None, 2000: None, 3000: None, 4000: None, 5000: None}\n",
    "\n",
    "for num in time_iterrows:\n",
    "    df = rand_df(num)\n",
    "    t0 = time()\n",
    "    for row in df.iterrows():\n",
    "        pass\n",
    "    t1 = time()\n",
    "    time_iterrows[num] = (t1 - t0) * 1000\n",
    "\n",
    "for num in time_itertuples:\n",
    "    df = rand_df(num)\n",
    "    t0 = time()\n",
    "    for row in df.itertuples():\n",
    "        pass\n",
    "    t1 = time()\n",
    "    time_itertuples[num] = (t1 - t0) * 1000\n",
    "\n",
    "times_df = pd.DataFrame(dtype=float)\n",
    "\n",
    "for num in time_iterrows:\n",
    "    times_df.at[num, \"iterrows\"] = time_iterrows[num]\n",
    "\n",
    "for num in time_itertuples:\n",
    "    times_df.at[num, \"itertuples\"] = time_itertuples[num]\n",
    "\n",
    "times_df.plot.line(xlabel=\"Rows\", ylabel=\"Milliseconds\")\n"
   ]
  },
  {
   "cell_type": "code",
   "execution_count": 37,
   "id": "0cbe8f77-d0fe-4598-ba9d-399d3ce01916",
   "metadata": {},
   "outputs": [
    {
     "data": {
      "text/plain": [
       "<AxesSubplot:xlabel='Rows', ylabel='Milliseconds'>"
      ]
     },
     "execution_count": 37,
     "metadata": {},
     "output_type": "execute_result"
    },
    {
     "data": {
      "image/png": "[encoded data removed]",
      "text/plain": [
       "<Figure size 640x480 with 1 Axes>"
      ]
     },
     "metadata": {},
     "output_type": "display_data"
    }
   ],
   "source": [
    "#Q31\n",
    "time_loc = {1000: None, 2000: None, 3000: None, 4000: None, 5000: None}\n",
    "time_at = {1000: None, 2000: None, 3000: None, 4000: None, 5000: None}\n",
    "total = 0\n",
    "for num in time_loc:\n",
    "    df = rand_df(num)\n",
    "    t0 = time()\n",
    "    for idx in df.index:\n",
    "        for col in df.columns:\n",
    "            total += df.loc[idx, col]\n",
    "    t1 = time()\n",
    "    time_loc[num] = (t1 - t0) * 1000\n",
    "total = 0\n",
    "for num in time_at:\n",
    "    df = rand_df(num)\n",
    "    t0 = time()\n",
    "    for idx in df.index:\n",
    "        for col in df.columns:\n",
    "            total += df.at[idx, col]\n",
    "    t1 = time()\n",
    "    time_at[num] = (t1 - t0) * 1000\n",
    "\n",
    "times_df = pd.DataFrame(dtype=float)\n",
    "\n",
    "for num in time_loc:\n",
    "    times_df.at[num, \"loc\"] = time_loc[num]\n",
    "\n",
    "for num in time_at:\n",
    "    times_df.at[num, \"at\"] = time_at[num]\n",
    "times_df.plot.line(xlabel=\"Rows\", ylabel=\"Milliseconds\")\n"
   ]
  },
  {
   "cell_type": "code",
   "execution_count": 38,
   "id": "4bda9ad9-2e26-476f-a37a-e0d8abff2305",
   "metadata": {},
   "outputs": [
    {
     "data": {
      "text/plain": [
       "<AxesSubplot:xlabel='Rows', ylabel='Milliseconds'>"
      ]
     },
     "execution_count": 38,
     "metadata": {},
     "output_type": "execute_result"
    },
    {
     "data": {
      "image/png": "[encoded data removed]",
      "text/plain": [
       "<Figure size 640x480 with 1 Axes>"
      ]
     },
     "metadata": {},
     "output_type": "display_data"
    }
   ],
   "source": [
    "#Q32\n",
    "def laugh(x):\n",
    "    return \"ha\" * x\n",
    "\n",
    "\n",
    "nums = [1000,2000,3000,4000,5000,6000,7000,8000,9000,10000,11000,12000,13000,14000,15000,16000,17000,18000,19000,20000]\n",
    "times_apply = {num: None for num in nums}\n",
    "times_loop = {num: None for num in nums}\n",
    "times_df = pd.DataFrame(dtype=float)\n",
    "for num in times_apply:\n",
    "    df = rand_df(num)\n",
    "    t0 = time()\n",
    "    result = df[\"A\"].apply(laugh).tolist()\n",
    "    t1 = time()\n",
    "    times_apply[num] = (t1 - t0) * 1000\n",
    "\n",
    "for num in times_loop:\n",
    "    df = rand_df(num)\n",
    "    t0 = time()\n",
    "    result = []\n",
    "    for val in df[\"A\"]:\n",
    "        result.append(laugh(val))\n",
    "    t1 = time()\n",
    "    times_loop[num] = (t1 - t0) * 1000\n",
    "\n",
    "for num in times_apply:\n",
    "    times_df.at[num, \"apply\"] = times_apply[num]\n",
    "\n",
    "for num in times_loop:\n",
    "    times_df.at[num, \"loop\"] = times_loop[num]\n",
    "times_df.plot.line(xlabel=\"Rows\", ylabel=\"Milliseconds\")\n"
   ]
  }
 ],
 "metadata": {
  "kernelspec": {
   "display_name": "Python 3 (ipykernel)",
   "language": "python",
   "name": "python3"
  },
  "language_info": {
   "codemirror_mode": {
    "name": "ipython",
    "version": 3
   },
   "file_extension": ".py",
   "mimetype": "text/x-python",
   "name": "python",
   "nbconvert_exporter": "python",
   "pygments_lexer": "ipython3",
   "version": "3.10.6"
  }
 },
 "nbformat": 4,
 "nbformat_minor": 5
}
